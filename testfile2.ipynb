{
  "cells": [
    {
      "cell_type": "markdown",
      "metadata": {
        "slideshow": {
          "slide_type": "slide"
        },
        "pycharm": {}
      },
      "source": [
        "##Searching for Phenotypic Information with a Gene Name\n",
        "by Colin Fletcher and Eileen Cahill"
      ]
    },
    {
      "cell_type": "code",
      "execution_count": 1,
      "metadata": {
        "slideshow": {
          "slide_type": "slide"
        },
        "pycharm": {
          "is_executing": false
        }
      },
      "outputs": [],
      "source": [
        "while True:\n",
        "    marker_symbol \u003d input(\"Please enter a gene symbol: \")\n",
        "    if any(x.isspace() for x in marker_symbol):\n",
        "        print(\"No spaces allowed, please re-enter.\")\n",
        "        continue\n",
        "\n",
        "    if not all(x.isalnum() for x in marker_symbol):\n",
        "        print(\"Alphanumeric only please.\")\n",
        "        continue\n",
        "\n",
        "    import pandas as pd\n",
        "    CSV_URL \u003d \"https://www.ebi.ac.uk/mi/impc/solr/genotype-phenotype/select?q\u003dmarker_symbol:\" + marker_symbol + \"\u0026rows\u003d500\u0026wt\u003dcsv\u0026indent\u003d1\"\n",
        "    df \u003d pd.read_csv(CSV_URL)\n",
        "\n",
        "    if df.empty:\n",
        "        print(\"Looks like that gene doesn\u0027t have available information. Try another gene or check your cAsE.\")\n",
        "        continue\n",
        "    else:\n",
        "        break\n",
        "        \n"
      ]
    },
    {
      "cell_type": "code",
      "execution_count": 2,
      "metadata": {
        "slideshow": {
          "slide_type": "slide"
        },
        "pycharm": {
          "is_executing": false
        }
      },
      "outputs": [
        {
          "name": "stdout",
          "text": [
            "IMPC found this allele: [\u0027Fbxo7\u003ctm1a(EUCOMM)Wtsi\u003e\u0027]\n[\u0027decreased circulating alanine transaminase level\u0027, \u0027decreased hematocrit\u0027, \u0027decreased erythrocyte cell number\u0027, \u0027decreased hemoglobin content\u0027, \u0027increased monocyte cell number\u0027, \u0027decreased leukocyte cell number\u0027, \u0027increased mean platelet volume\u0027, \u0027increased NK cell number\u0027, \u0027decreased NK T cell number\u0027, \u0027decreased CD8-positive, alpha-beta T cell number\u0027, \u0027decreased CD4-positive, alpha beta T cell number\u0027, \u0027decreased circulating fructosamine level\u0027, \u0027increased red blood cell distribution width\u0027, \u0027decreased T cell number\u0027, \u0027increased effector memory CD8-positive, alpha-beta T cell number\u0027, \u0027increased effector memory CD4-positive, alpha-beta T cell number\u0027, \u0027increased mean corpuscular hemoglobin\u0027, \u0027increased circulating bilirubin level\u0027, \u0027decreased circulating iron level\u0027, \u0027thrombocytosis\u0027]\n"
          ],
          "output_type": "stream"
        }
      ],
      "source": [
        "AlleleFound \u003d pd.unique(df[\u0027allele_symbol\u0027]).tolist()\n",
        "AlleleFound \u003d str(AlleleFound)\n",
        "print(\"IMPC found this allele: \" + AlleleFound)\n",
        "\n",
        "df \u003d df.dropna(subset\u003d[\u0027percentage_change\u0027])\n",
        "mp_term_list \u003d pd.unique(df[\u0027mp_term_name\u0027]).tolist()\n",
        "print(mp_term_list)\n"
      ]
    },
    {
      "cell_type": "code",
      "execution_count": 3,
      "metadata": {
        "slideshow": {
          "slide_type": "slide"
        },
        "pycharm": {
          "is_executing": false
        }
      },
      "outputs": [],
      "source": [
        "#***** added error checking/looping for second user input\n",
        "\n",
        "while True:\n",
        "    PhenoTerm \u003d input(\"Select a phenotype for analysis:  \")\n",
        "\n",
        "    if not all(i.isalnum() for i in marker_symbol):\n",
        "        print(\"Alphanumeric only please.\")\n",
        "        continue\n",
        "\n",
        "    if PhenoTerm not in mp_term_list:\n",
        "        print(\"Looks like you didn\u0027t enter a correct phenotype. Try again.\")\n",
        "        continue\n",
        "    \n",
        "    else:\n",
        "        break\n",
        "        "
      ]
    },
    {
      "cell_type": "code",
      "execution_count": 4,
      "metadata": {
        "scrolled": false,
        "slideshow": {
          "slide_type": "slide"
        },
        "pycharm": {
          "is_executing": false
        }
      },
      "outputs": [
        {
          "name": "stdout",
          "text": [
            "Parameter Stable ID: IMPC_HEM_008_001\nColony ID: MEBV\n",
            "                                 data_point\nbiological_sample_group sex                \ncontrol                 female  1159.870370\n                        male    1391.469388\nexperimental            female  1400.714286\n                        male    1966.428571\n"
          ],
          "output_type": "stream"
        }
      ],
      "source": "#*****added some print statements here\nParamId4Query \u003d df.loc[df[\u0027mp_term_name\u0027] \u003d\u003d  PhenoTerm, \"parameter_stable_id\"].iloc[0]\nColonyId4Query \u003d df.loc[df[\u0027mp_term_name\u0027] \u003d\u003d  PhenoTerm, \"colony_id\"].iloc[0]\nprint(\"Parameter Stable ID: \" + ParamId4Query)\nprint(\"Colony ID: \" + ColonyId4Query)\n\nCSV2_URL \u003d  \"https://www.ebi.ac.uk/mi/impc/solr/experiment/select?q\u003dparameter_stable_id:\"+ ParamId4Query +\"%20AND%20colony_id:\" + ColonyId4Query + \"\u0026rows\u003d500\u0026wt\u003dcsv\u0026indent\u003dtrue\"\ndf2 \u003d pd.read_csv(CSV2_URL) # this is KO data\n\nMetadataGroupID \u003d df2[\u0027metadata_group\u0027].iloc[0]\nPhenoCenterID \u003d df2[\u0027phenotyping_center\u0027].iloc[0]\nControlDataURL \u003d \"https://www.ebi.ac.uk/mi/impc/solr/experiment/select?q\u003dparameter_stable_id:\" + ParamId4Query + \"\u0026wt\u003dcsv\u0026fq\u003dmetadata_group:\" + MetadataGroupID + \"\u0026fq\u003dphenotyping_center:\" + PhenoCenterID + \"\u0026fq\u003dstrain_accession_id:%22MGI:2159965%22\u0026fq\u003dbiological_sample_group:control\u0026rows\u003d100\"\ndf3 \u003d pd.read_csv(ControlDataURL) # this is wildtype data\n\n#print(df3.info())\nframes \u003d [df2, df3]\ndf4 \u003d pd.concat(frames)\n#print(df4.info())\ndf4[\u0027datetime_for_experiment\u0027] \u003d pd.to_datetime(df4[\u0027date_of_experiment\u0027], format \u003d \u0027%Y-%m-%dT%H:%M:%S\u0027)\n\nsampletype \u003d df4.groupby([\u0027biological_sample_group\u0027, \u0027sex\u0027])[[\u0027data_point\u0027]].mean()\nprint(sampletype)\n"
    },
    {
      "cell_type": "code",
      "execution_count": 6,
      "metadata": {
        "slideshow": {
          "slide_type": "slide"
        },
        "pycharm": {
          "is_executing": false
        }
      },
      "outputs": [
        {
          "data": {
            "text/plain": "\u003cFigure size 432x288 with 1 Axes\u003e",
            "image/png": "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\u003d\u003d\n"
          },
          "metadata": {
            "needs_background": "light"
          },
          "output_type": "display_data"
        }
      ],
      "source": "param \u003d df4.loc[df4[\u0027parameter_stable_id\u0027] \u003d\u003d ParamId4Query, \u0027parameter_name\u0027].iloc[0]\nax \u003d df4.plot(x\u003d\u0027datetime_for_experiment\u0027, y\u003d\u0027data_point\u0027, style\u003d\".\", legend \u003d \"\", title\u003d \"Knockout \u0026 Wildtype Data for \" + PhenoTerm.capitalize() + \" Phenotype\")\nax.set(xlabel\u003d\u0027Date of Experiment\u0027, ylabel\u003dparam )\n\nimport matplotlib.pyplot as plt\n\n"
    },
    {
      "cell_type": "code",
      "execution_count": 7,
      "metadata": {
        "slideshow": {
          "slide_type": "slide"
        },
        "pycharm": {
          "is_executing": false
        }
      },
      "outputs": [
        {
          "name": "stderr",
          "text": [
            "/Users/fletcherc2/anaconda3/lib/python3.7/site-packages/scipy/stats/stats.py:1713: FutureWarning: Using a non-tuple sequence for multidimensional indexing is deprecated; use `arr[tuple(seq)]` instead of `arr[seq]`. In the future this will be interpreted as an array index, `arr[np.array(seq)]`, which will result either in an error or a different result.\n  return np.add.reduce(sorted[indexer] * weights, axis\u003daxis) / sumval\n"
          ],
          "output_type": "stream"
        },
        {
          "data": {
            "text/plain": "\u003cFigure size 720x360 with 2 Axes\u003e",
            "image/png": "[encoded data removed]"
          },
          "metadata": {
            "needs_background": "light"
          },
          "output_type": "display_data"
        }
      ],
      "source": [
        "import seaborn as sns\n",
        "x \u003d df4[\u0027date_of_experiment\u0027]\n",
        "y \u003d df4[\u0027data_point\u0027]\n",
        "sns.catplot(x \u003d \u0027sex\u0027, y \u003d \u0027data_point\u0027, col \u003d \u0027biological_sample_group\u0027, kind \u003d \u0027bar\u0027, data\u003ddf4)\n",
        "plt.show()"
      ]
    },
    {
      "cell_type": "code",
      "execution_count": null,
      "metadata": {
        "pycharm": {}
      },
      "outputs": [],
      "source": []
    }
  ],
  "metadata": {
    "celltoolbar": "Slideshow",
    "kernelspec": {
      "display_name": "Python 3",
      "language": "python",
      "name": "python3"
    },
    "language_info": {
      "codemirror_mode": {
        "name": "ipython",
        "version": 3
      },
      "file_extension": ".py",
      "mimetype": "text/x-python",
      "name": "python",
      "nbconvert_exporter": "python",
      "pygments_lexer": "ipython3",
      "version": "3.7.1"
    }
  },
  "nbformat": 4,
  "nbformat_minor": 1
}
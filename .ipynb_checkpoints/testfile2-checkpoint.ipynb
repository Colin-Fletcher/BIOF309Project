{
 "cells": [
  {
   "cell_type": "markdown",
   "metadata": {
    "slideshow": {
     "slide_type": "slide"
    }
   },
   "source": [
    "## Searching for Phenotypic Information with a Gene Name\n",
    "\n",
    "by Colin Fletcher and Eileen Cahill"
   ]
  },
  {
   "cell_type": "code",
   "execution_count": null,
   "metadata": {
    "slideshow": {
     "slide_type": "slide"
    }
   },
   "outputs": [],
   "source": [
    "Overview:\n",
    "    -\n",
    "    -\n",
    "    -\n",
    "    "
   ]
  },
  {
   "cell_type": "code",
   "execution_count": null,
   "metadata": {
    "slideshow": {
     "slide_type": "slide"
    }
   },
   "outputs": [],
   "source": [
    "# while True:\n",
    "    marker_symbol = input(\"Please enter a gene symbol: \")\n",
    "    if any(x.isspace() for x in marker_symbol):\n",
    "        print(\"No spaces allowed, please re-enter.\")\n",
    "        continue\n",
    "\n",
    "    if not all(x.isalnum() for x in marker_symbol):\n",
    "        print(\"Alphanumeric only please.\")\n",
    "        continue\n",
    "\n",
    "    import pandas as pd\n",
    "    CSV_URL = \"https://www.ebi.ac.uk/mi/impc/solr/genotype-phenotype/select?q=marker_symbol:\" + marker_symbol + \"&rows=500&wt=csv&indent=1\"\n",
    "    df = pd.read_csv(CSV_URL)\n",
    "\n",
    "    if df.empty:\n",
    "        print(\"Looks like that gene doesn't have available information. Try another gene or check your cAsE.\")\n",
    "        continue\n",
    "    else:\n",
    "        break\n",
    "        \n",
    "AlleleFound = pd.unique(df['allele_symbol']).tolist()\n",
    "AlleleFound = str(AlleleFound)\n",
    "print(\"IMPC found this allele: \" + AlleleFound)\n",
    "\n",
    "df = df.dropna(subset=['percentage_change'])\n",
    "mp_term_list = pd.unique(df['mp_term_name']).tolist()\n",
    "print(mp_term_list)\n",
    "\n",
    "#***** added error checking/looping for second user input\n",
    "\n",
    "while True:\n",
    "    PhenoTerm = input(\"Select a phenotype for analysis:  \")\n",
    "\n",
    "    if not all(i.isalnum() for i in marker_symbol):\n",
    "        print(\"Alphanumeric only please.\")\n",
    "        continue\n",
    "\n",
    "    if PhenoTerm not in mp_term_list:\n",
    "        print(\"Looks like you didn't enter a correct phenotype. Try again.\")\n",
    "        continue\n",
    "    \n",
    "    else:\n",
    "        break\n",
    "        \n",
    "#*****added some print statements here\n",
    "ParamId4Query = df.loc[df['mp_term_name'] ==  PhenoTerm, \"parameter_stable_id\"].iloc[0]\n",
    "ColonyId4Query = df.loc[df['mp_term_name'] ==  PhenoTerm, \"colony_id\"].iloc[0]\n",
    "print(\"Parameter Stable ID: \" + ParamId4Query)\n",
    "print(\"Colony ID: \" + ColonyId4Query)\n",
    "\n",
    "CSV2_URL =  \"https://www.ebi.ac.uk/mi/impc/solr/experiment/select?q=parameter_stable_id:\"+ ParamId4Query +\"%20AND%20colony_id:\" + ColonyId4Query + \"&rows=500&wt=csv&indent=true\"\n",
    "df2 = pd.read_csv(CSV2_URL) # this is KO data\n",
    "MetadataGroupID = df2['metadata_group'].iloc[0]\n",
    "PhenoCenterID = df2['phenotyping_center'].iloc[0]\n",
    "ControlDataURL = \"https://www.ebi.ac.uk/mi/impc/solr/experiment/select?q=parameter_stable_id:\" + ParamId4Query + \"&wt=csv&fq=metadata_group:\" + MetadataGroupID + \"&fq=phenotyping_center:\" + PhenoCenterID + \"&fq=strain_accession_id:%22MGI:2159965%22&fq=biological_sample_group:control&rows=100\"\n",
    "df3 = pd.read_csv(ControlDataURL) # this is wildtype data\n",
    "#print(df3.info())\n",
    "frames = [df2, df3]\n",
    "df4 = pd.concat(frames)\n",
    "#print(df4.info())\n",
    "df4.groupby(['biological_sample_group', 'sex'])[['data_point']].mean()\n",
    "\n",
    "#*****altered the plot\n",
    "'''\n",
    "import matplotlib.pyplot as plt\n",
    "x = df4['date_of_experiment']\n",
    "y = df4['data_point']\n",
    "plt.scatter(x,y) #color by \"biological_sample_group\" < need to be a factor??\n",
    "plt.show()\n",
    "\n",
    "'''\n",
    "import matplotlib.pyplot as plt\n",
    "x = df4['date_of_experiment']\n",
    "y = df4['data_point']\n",
    "\n",
    "#****want to rotate x ticks and change color btwn KO and WT\n",
    "fig, ax = plt.subplots(figsize=(12, 5))\n",
    "ax.scatter(x,y, alpha = 0.7) #color by \"biological_sample_group\" < need to be a factor??\n",
    "ax.set_title(\"Wildtype and Knockout Datapoints\")\n",
    "ax.set_xlabel(\"Date of Experiment\")\n",
    "ax.set_ylabel(\"Data point value\")\n",
    "plt.show()\n",
    "\n",
    "import seaborn as sns\n",
    "x = df4['date_of_experiment']\n",
    "y = df4['data_point']\n",
    "sns.catplot(x = 'sex', y = 'data_point', col = 'biological_sample_group', kind = 'bar', data=df4)\n",
    "plt.show()\n"
   ]
  }
 ],
 "metadata": {
  "celltoolbar": "Slideshow",
  "kernelspec": {
   "display_name": "Python 3",
   "language": "python",
   "name": "python3"
  },
  "language_info": {
   "codemirror_mode": {
    "name": "ipython",
    "version": 3
   },
   "file_extension": ".py",
   "mimetype": "text/x-python",
   "name": "python",
   "nbconvert_exporter": "python",
   "pygments_lexer": "ipython3",
   "version": "3.7.1"
  }
 },
 "nbformat": 4,
 "nbformat_minor": 1
}

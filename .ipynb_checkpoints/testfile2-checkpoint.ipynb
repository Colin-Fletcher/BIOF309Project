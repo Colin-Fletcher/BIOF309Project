{
 "cells": [
  {
   "cell_type": "markdown",
   "metadata": {
    "slideshow": {
     "slide_type": "slide"
    }
   },
   "source": [
    "##Searching for Phenotypic Information with a Gene Name\n",
    "by Colin Fletcher and Eileen Cahill"
   ]
  },
  {
   "cell_type": "code",
   "execution_count": 2,
   "metadata": {
    "slideshow": {
     "slide_type": "slide"
    }
   },
   "outputs": [
    {
     "name": "stdout",
     "output_type": "stream",
     "text": [
      "Please enter a gene symbol: Fbxo7\n"
     ]
    }
   ],
   "source": [
    "while True:\n",
    "    marker_symbol = input(\"Please enter a gene symbol: \")\n",
    "    if any(x.isspace() for x in marker_symbol):\n",
    "        print(\"No spaces allowed, please re-enter.\")\n",
    "        continue\n",
    "\n",
    "    if not all(x.isalnum() for x in marker_symbol):\n",
    "        print(\"Alphanumeric only please.\")\n",
    "        continue\n",
    "\n",
    "    import pandas as pd\n",
    "    CSV_URL = \"https://www.ebi.ac.uk/mi/impc/solr/genotype-phenotype/select?q=marker_symbol:\" + marker_symbol + \"&rows=500&wt=csv&indent=1\"\n",
    "    df = pd.read_csv(CSV_URL)\n",
    "\n",
    "    if df.empty:\n",
    "        print(\"Looks like that gene doesn't have available information. Try another gene or check your cAsE.\")\n",
    "        continue\n",
    "    else:\n",
    "        break\n",
    "        \n"
   ]
  },
  {
   "cell_type": "code",
   "execution_count": 3,
   "metadata": {
    "slideshow": {
     "slide_type": "slide"
    }
   },
   "outputs": [
    {
     "name": "stdout",
     "output_type": "stream",
     "text": [
      "IMPC found this allele: ['Fbxo7<tm1a(EUCOMM)Wtsi>']\n",
      "['decreased circulating alanine transaminase level', 'decreased hematocrit', 'decreased erythrocyte cell number', 'decreased hemoglobin content', 'increased monocyte cell number', 'decreased leukocyte cell number', 'increased mean platelet volume', 'increased NK cell number', 'decreased NK T cell number', 'decreased CD8-positive, alpha-beta T cell number', 'decreased CD4-positive, alpha beta T cell number', 'decreased circulating fructosamine level', 'increased red blood cell distribution width', 'decreased T cell number', 'increased effector memory CD8-positive, alpha-beta T cell number', 'increased effector memory CD4-positive, alpha-beta T cell number', 'increased mean corpuscular hemoglobin', 'increased circulating bilirubin level', 'decreased circulating iron level', 'thrombocytosis']\n"
     ]
    }
   ],
   "source": [
    "AlleleFound = pd.unique(df['allele_symbol']).tolist()\n",
    "AlleleFound = str(AlleleFound)\n",
    "print(\"IMPC found this allele: \" + AlleleFound)\n",
    "\n",
    "df = df.dropna(subset=['percentage_change'])\n",
    "mp_term_list = pd.unique(df['mp_term_name']).tolist()\n",
    "print(mp_term_list)\n"
   ]
  },
  {
   "cell_type": "code",
   "execution_count": 4,
   "metadata": {
    "slideshow": {
     "slide_type": "slide"
    }
   },
   "outputs": [
    {
     "name": "stdout",
     "output_type": "stream",
     "text": [
      "Select a phenotype for analysis:  thrombocytosis\n"
     ]
    }
   ],
   "source": [
    "#***** added error checking/looping for second user input\n",
    "\n",
    "while True:\n",
    "    PhenoTerm = input(\"Select a phenotype for analysis:  \")\n",
    "\n",
    "    if not all(i.isalnum() for i in marker_symbol):\n",
    "        print(\"Alphanumeric only please.\")\n",
    "        continue\n",
    "\n",
    "    if PhenoTerm not in mp_term_list:\n",
    "        print(\"Looks like you didn't enter a correct phenotype. Try again.\")\n",
    "        continue\n",
    "    \n",
    "    else:\n",
    "        break\n",
    "        "
   ]
  },
  {
   "cell_type": "code",
   "execution_count": 11,
   "metadata": {
    "scrolled": false,
    "slideshow": {
     "slide_type": "slide"
    }
   },
   "outputs": [
    {
     "name": "stdout",
     "output_type": "stream",
     "text": [
      "Parameter Stable ID: IMPC_HEM_008_001\n",
      "Colony ID: MEBV\n",
      "                                 data_point\n",
      "biological_sample_group sex                \n",
      "control                 female  1159.870370\n",
      "                        male    1391.469388\n",
      "experimental            female  1400.714286\n",
      "                        male    1966.428571\n"
     ]
    }
   ],
   "source": [
    "#*****added some print statements here\n",
    "ParamId4Query = df.loc[df['mp_term_name'] ==  PhenoTerm, \"parameter_stable_id\"].iloc[0]\n",
    "ColonyId4Query = df.loc[df['mp_term_name'] ==  PhenoTerm, \"colony_id\"].iloc[0]\n",
    "print(\"Parameter Stable ID: \" + ParamId4Query)\n",
    "print(\"Colony ID: \" + ColonyId4Query)\n",
    "\n",
    "CSV2_URL =  \"https://www.ebi.ac.uk/mi/impc/solr/experiment/select?q=parameter_stable_id:\"+ ParamId4Query +\"%20AND%20colony_id:\" + ColonyId4Query + \"&rows=500&wt=csv&indent=true\"\n",
    "df2 = pd.read_csv(CSV2_URL) # this is KO data\n",
    "\n",
    "MetadataGroupID = df2['metadata_group'].iloc[0]\n",
    "PhenoCenterID = df2['phenotyping_center'].iloc[0]\n",
    "ControlDataURL = \"https://www.ebi.ac.uk/mi/impc/solr/experiment/select?q=parameter_stable_id:\" + ParamId4Query + \"&wt=csv&fq=metadata_group:\" + MetadataGroupID + \"&fq=phenotyping_center:\" + PhenoCenterID + \"&fq=strain_accession_id:%22MGI:2159965%22&fq=biological_sample_group:control&rows=100\"\n",
    "df3 = pd.read_csv(ControlDataURL) # this is wildtype data\n",
    "\n",
    "#print(df3.info())\n",
    "frames = [df2, df3]\n",
    "df4 = pd.concat(frames)\n",
    "#print(df4.info())\n",
    "df4['datetime_for_experiment'] = pd.to_datetime(df4['date_of_experiment'], format = '%Y-%m-%dT%H:%M:%S')\n",
    "sampletype = df4.groupby(['biological_sample_group', 'sex'])[['data_point']].mean()\n",
    "print(sampletype)\n",
    "#print(df4['datetime_for_experiment'])"
   ]
  },
  {
   "cell_type": "code",
   "execution_count": 13,
   "metadata": {
    "slideshow": {
     "slide_type": "slide"
    }
   },
   "outputs": [
    {
     "ename": "TypeError",
     "evalue": "invalid type promotion",
     "output_type": "error",
     "traceback": [
      "\u001b[0;31m---------------------------------------------------------------------------\u001b[0m",
      "\u001b[0;31mTypeError\u001b[0m                                 Traceback (most recent call last)",
      "\u001b[0;32m<ipython-input-13-2948ace4a55f>\u001b[0m in \u001b[0;36m<module>\u001b[0;34m\u001b[0m\n\u001b[1;32m     16\u001b[0m \u001b[0;31m#****want to rotate x ticks and change color btwn KO and WT\u001b[0m\u001b[0;34m\u001b[0m\u001b[0;34m\u001b[0m\u001b[0;34m\u001b[0m\u001b[0m\n\u001b[1;32m     17\u001b[0m \u001b[0mfig\u001b[0m\u001b[0;34m,\u001b[0m \u001b[0max\u001b[0m \u001b[0;34m=\u001b[0m \u001b[0mplt\u001b[0m\u001b[0;34m.\u001b[0m\u001b[0msubplots\u001b[0m\u001b[0;34m(\u001b[0m\u001b[0mfigsize\u001b[0m\u001b[0;34m=\u001b[0m\u001b[0;34m(\u001b[0m\u001b[0;36m12\u001b[0m\u001b[0;34m,\u001b[0m \u001b[0;36m5\u001b[0m\u001b[0;34m)\u001b[0m\u001b[0;34m)\u001b[0m\u001b[0;34m\u001b[0m\u001b[0;34m\u001b[0m\u001b[0m\n\u001b[0;32m---> 18\u001b[0;31m \u001b[0max\u001b[0m\u001b[0;34m.\u001b[0m\u001b[0mscatter\u001b[0m\u001b[0;34m(\u001b[0m\u001b[0mx\u001b[0m\u001b[0;34m,\u001b[0m\u001b[0my\u001b[0m\u001b[0;34m,\u001b[0m \u001b[0malpha\u001b[0m \u001b[0;34m=\u001b[0m \u001b[0;36m0.7\u001b[0m\u001b[0;34m,\u001b[0m \u001b[0mc\u001b[0m \u001b[0;34m=\u001b[0m \u001b[0;34m'c'\u001b[0m\u001b[0;34m)\u001b[0m\u001b[0;34m\u001b[0m\u001b[0;34m\u001b[0m\u001b[0m\n\u001b[0m\u001b[1;32m     19\u001b[0m \u001b[0;31m#ax.scatter(x1,y1, alpha = 0.7, c = 'b') #color by \"biological_sample_group\" < need to be a factor??\u001b[0m\u001b[0;34m\u001b[0m\u001b[0;34m\u001b[0m\u001b[0;34m\u001b[0m\u001b[0m\n\u001b[1;32m     20\u001b[0m \u001b[0;31m#ax.scatter(x2,y2, alpha = 0.7, c = 'c')\u001b[0m\u001b[0;34m\u001b[0m\u001b[0;34m\u001b[0m\u001b[0;34m\u001b[0m\u001b[0m\n",
      "\u001b[0;32m~/anaconda3/lib/python3.7/site-packages/matplotlib/__init__.py\u001b[0m in \u001b[0;36minner\u001b[0;34m(ax, data, *args, **kwargs)\u001b[0m\n\u001b[1;32m   1808\u001b[0m                         \u001b[0;34m\"the Matplotlib list!)\"\u001b[0m \u001b[0;34m%\u001b[0m \u001b[0;34m(\u001b[0m\u001b[0mlabel_namer\u001b[0m\u001b[0;34m,\u001b[0m \u001b[0mfunc\u001b[0m\u001b[0;34m.\u001b[0m\u001b[0m__name__\u001b[0m\u001b[0;34m)\u001b[0m\u001b[0;34m,\u001b[0m\u001b[0;34m\u001b[0m\u001b[0;34m\u001b[0m\u001b[0m\n\u001b[1;32m   1809\u001b[0m                         RuntimeWarning, stacklevel=2)\n\u001b[0;32m-> 1810\u001b[0;31m             \u001b[0;32mreturn\u001b[0m \u001b[0mfunc\u001b[0m\u001b[0;34m(\u001b[0m\u001b[0max\u001b[0m\u001b[0;34m,\u001b[0m \u001b[0;34m*\u001b[0m\u001b[0margs\u001b[0m\u001b[0;34m,\u001b[0m \u001b[0;34m**\u001b[0m\u001b[0mkwargs\u001b[0m\u001b[0;34m)\u001b[0m\u001b[0;34m\u001b[0m\u001b[0;34m\u001b[0m\u001b[0m\n\u001b[0m\u001b[1;32m   1811\u001b[0m \u001b[0;34m\u001b[0m\u001b[0m\n\u001b[1;32m   1812\u001b[0m         inner.__doc__ = _add_data_doc(inner.__doc__,\n",
      "\u001b[0;32m~/anaconda3/lib/python3.7/site-packages/matplotlib/axes/_axes.py\u001b[0m in \u001b[0;36mscatter\u001b[0;34m(self, x, y, s, c, marker, cmap, norm, vmin, vmax, alpha, linewidths, verts, edgecolors, **kwargs)\u001b[0m\n\u001b[1;32m   4286\u001b[0m             \u001b[0mlinewidths\u001b[0m \u001b[0;34m=\u001b[0m \u001b[0mrcParams\u001b[0m\u001b[0;34m[\u001b[0m\u001b[0;34m'lines.linewidth'\u001b[0m\u001b[0;34m]\u001b[0m\u001b[0;34m\u001b[0m\u001b[0;34m\u001b[0m\u001b[0m\n\u001b[1;32m   4287\u001b[0m \u001b[0;34m\u001b[0m\u001b[0m\n\u001b[0;32m-> 4288\u001b[0;31m         \u001b[0moffsets\u001b[0m \u001b[0;34m=\u001b[0m \u001b[0mnp\u001b[0m\u001b[0;34m.\u001b[0m\u001b[0mcolumn_stack\u001b[0m\u001b[0;34m(\u001b[0m\u001b[0;34m[\u001b[0m\u001b[0mx\u001b[0m\u001b[0;34m,\u001b[0m \u001b[0my\u001b[0m\u001b[0;34m]\u001b[0m\u001b[0;34m)\u001b[0m\u001b[0;34m\u001b[0m\u001b[0;34m\u001b[0m\u001b[0m\n\u001b[0m\u001b[1;32m   4289\u001b[0m \u001b[0;34m\u001b[0m\u001b[0m\n\u001b[1;32m   4290\u001b[0m         collection = mcoll.PathCollection(\n",
      "\u001b[0;32m~/anaconda3/lib/python3.7/site-packages/numpy/lib/shape_base.py\u001b[0m in \u001b[0;36mcolumn_stack\u001b[0;34m(tup)\u001b[0m\n\u001b[1;32m    592\u001b[0m             \u001b[0marr\u001b[0m \u001b[0;34m=\u001b[0m \u001b[0marray\u001b[0m\u001b[0;34m(\u001b[0m\u001b[0marr\u001b[0m\u001b[0;34m,\u001b[0m \u001b[0mcopy\u001b[0m\u001b[0;34m=\u001b[0m\u001b[0;32mFalse\u001b[0m\u001b[0;34m,\u001b[0m \u001b[0msubok\u001b[0m\u001b[0;34m=\u001b[0m\u001b[0;32mTrue\u001b[0m\u001b[0;34m,\u001b[0m \u001b[0mndmin\u001b[0m\u001b[0;34m=\u001b[0m\u001b[0;36m2\u001b[0m\u001b[0;34m)\u001b[0m\u001b[0;34m.\u001b[0m\u001b[0mT\u001b[0m\u001b[0;34m\u001b[0m\u001b[0;34m\u001b[0m\u001b[0m\n\u001b[1;32m    593\u001b[0m         \u001b[0marrays\u001b[0m\u001b[0;34m.\u001b[0m\u001b[0mappend\u001b[0m\u001b[0;34m(\u001b[0m\u001b[0marr\u001b[0m\u001b[0;34m)\u001b[0m\u001b[0;34m\u001b[0m\u001b[0;34m\u001b[0m\u001b[0m\n\u001b[0;32m--> 594\u001b[0;31m     \u001b[0;32mreturn\u001b[0m \u001b[0m_nx\u001b[0m\u001b[0;34m.\u001b[0m\u001b[0mconcatenate\u001b[0m\u001b[0;34m(\u001b[0m\u001b[0marrays\u001b[0m\u001b[0;34m,\u001b[0m \u001b[0;36m1\u001b[0m\u001b[0;34m)\u001b[0m\u001b[0;34m\u001b[0m\u001b[0;34m\u001b[0m\u001b[0m\n\u001b[0m\u001b[1;32m    595\u001b[0m \u001b[0;34m\u001b[0m\u001b[0m\n\u001b[1;32m    596\u001b[0m \u001b[0;32mdef\u001b[0m \u001b[0mdstack\u001b[0m\u001b[0;34m(\u001b[0m\u001b[0mtup\u001b[0m\u001b[0;34m)\u001b[0m\u001b[0;34m:\u001b[0m\u001b[0;34m\u001b[0m\u001b[0;34m\u001b[0m\u001b[0m\n",
      "\u001b[0;31mTypeError\u001b[0m: invalid type promotion"
     ]
    },
    {
     "data": {
      "image/png": "[encoded data removed]",
      "text/plain": [
       "<Figure size 864x360 with 1 Axes>"
      ]
     },
     "metadata": {
      "needs_background": "light"
     },
     "output_type": "display_data"
    }
   ],
   "source": [
    "import matplotlib.pyplot as plt\n",
    "x = df4['datetime_for_experiment']\n",
    "y = df4['data_point']\n",
    "z = df4['biological_sample_group']\n",
    "#print(x + ' ' + z)\n",
    "param = df4.loc[df4['parameter_stable_id'] == ParamId4Query, 'parameter_name'].iloc[0]\n",
    "\n",
    "'''\n",
    "x1 = df2['date_of_experiment']\n",
    "y1 = df2['data_point']\n",
    "\n",
    "x2 = df3['date_of_experiment']\n",
    "y2 = df3['data_point']\n",
    "'''\n",
    "\n",
    "#****want to rotate x ticks and change color btwn KO and WT\n",
    "fig, ax = plt.subplots(figsize=(12, 5))\n",
    "ax.scatter(x,y, alpha = 0.7, c = 'c')\n",
    "#ax.scatter(x1,y1, alpha = 0.7, c = 'b') #color by \"biological_sample_group\" < need to be a factor??\n",
    "#ax.scatter(x2,y2, alpha = 0.7, c = 'c')\n",
    "\n",
    "ax.set_title(\"Knockout & Wildtype Data for \" + PhenoTerm.capitalize() + \" Phenotype\")\n",
    "ax.set_xlabel(\"Date of Experiment\")\n",
    "ax.set_ylabel(param)\n",
    "plt.show()"
   ]
  },
  {
   "cell_type": "code",
   "execution_count": 7,
   "metadata": {
    "slideshow": {
     "slide_type": "slide"
    }
   },
   "outputs": [
    {
     "name": "stderr",
     "output_type": "stream",
     "text": [
      "/Users/eileencahill/anaconda3/lib/python3.7/site-packages/scipy/stats/stats.py:1713: FutureWarning: Using a non-tuple sequence for multidimensional indexing is deprecated; use `arr[tuple(seq)]` instead of `arr[seq]`. In the future this will be interpreted as an array index, `arr[np.array(seq)]`, which will result either in an error or a different result.\n",
      "  return np.add.reduce(sorted[indexer] * weights, axis=axis) / sumval\n"
     ]
    },
    {
     "data": {
      "image/png": "[encoded data removed]",
      "text/plain": [
       "<Figure size 720x360 with 2 Axes>"
      ]
     },
     "metadata": {
      "needs_background": "light"
     },
     "output_type": "display_data"
    }
   ],
   "source": [
    "import seaborn as sns\n",
    "x = df4['date_of_experiment']\n",
    "y = df4['data_point']\n",
    "sns.catplot(x = 'sex', y = 'data_point', col = 'biological_sample_group', kind = 'bar', data=df4)\n",
    "plt.show()"
   ]
  },
  {
   "cell_type": "code",
   "execution_count": null,
   "metadata": {},
   "outputs": [],
   "source": []
  }
 ],
 "metadata": {
  "celltoolbar": "Slideshow",
  "kernelspec": {
   "display_name": "Python 3",
   "language": "python",
   "name": "python3"
  },
  "language_info": {
   "codemirror_mode": {
    "name": "ipython",
    "version": 3
   },
   "file_extension": ".py",
   "mimetype": "text/x-python",
   "name": "python",
   "nbconvert_exporter": "python",
   "pygments_lexer": "ipython3",
   "version": "3.7.1"
  }
 },
 "nbformat": 4,
 "nbformat_minor": 1
}

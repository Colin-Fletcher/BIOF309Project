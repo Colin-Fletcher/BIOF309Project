{
 "cells": [
  {
   "cell_type": "markdown",
   "metadata": {
    "slideshow": {
     "slide_type": "slide"
    }
   },
   "source": [
    "##Searching for Phenotypic Information with a Gene Name\n",
    "by Colin Fletcher and Eileen Cahill"
   ]
  },
  {
   "cell_type": "code",
   "execution_count": 32,
   "metadata": {
    "slideshow": {
     "slide_type": "slide"
    }
   },
   "outputs": [
    {
     "name": "stdout",
     "output_type": "stream",
     "text": [
      "Please enter a gene symbol: Fbxo7\n"
     ]
    }
   ],
   "source": [
    "while True:\n",
    "    marker_symbol = input(\"Please enter a gene symbol: \")\n",
    "    if any(x.isspace() for x in marker_symbol):\n",
    "        print(\"No spaces allowed, please re-enter.\")\n",
    "        continue\n",
    "\n",
    "    if not all(x.isalnum() for x in marker_symbol):\n",
    "        print(\"Alphanumeric only please.\")\n",
    "        continue\n",
    "\n",
    "    import pandas as pd\n",
    "    CSV_URL = \"https://www.ebi.ac.uk/mi/impc/solr/genotype-phenotype/select?q=marker_symbol:\" + marker_symbol + \"&rows=500&wt=csv&indent=1\"\n",
    "    df = pd.read_csv(CSV_URL)\n",
    "\n",
    "    if df.empty:\n",
    "        print(\"Looks like that gene doesn't have available information. Try another gene or check your cAsE.\")\n",
    "        continue\n",
    "    else:\n",
    "        break\n",
    "        \n"
   ]
  },
  {
   "cell_type": "code",
   "execution_count": 34,
   "metadata": {
    "slideshow": {
     "slide_type": "slide"
    }
   },
   "outputs": [
    {
     "name": "stdout",
     "output_type": "stream",
     "text": [
      "IMPC found this allele: ['Fbxo7<tm1a(EUCOMM)Wtsi>']\n",
      "['decreased circulating alanine transaminase level', 'decreased hematocrit', 'decreased erythrocyte cell number', 'decreased hemoglobin content', 'increased monocyte cell number', 'decreased leukocyte cell number', 'increased mean platelet volume', 'increased NK cell number', 'decreased NK T cell number', 'decreased CD8-positive, alpha-beta T cell number', 'decreased CD4-positive, alpha beta T cell number', 'decreased circulating fructosamine level', 'increased red blood cell distribution width', 'decreased T cell number', 'increased effector memory CD8-positive, alpha-beta T cell number', 'increased effector memory CD4-positive, alpha-beta T cell number', 'increased mean corpuscular hemoglobin', 'increased circulating bilirubin level', 'decreased circulating iron level', 'thrombocytosis']\n"
     ]
    }
   ],
   "source": [
    "AlleleFound = pd.unique(df['allele_symbol']).tolist()\n",
    "AlleleFound = str(AlleleFound)\n",
    "print(\"IMPC found this allele: \" + AlleleFound)\n",
    "\n",
    "df = df.dropna(subset=['percentage_change'])\n",
    "mp_term_list = pd.unique(df['mp_term_name']).tolist()\n",
    "print(mp_term_list)\n"
   ]
  },
  {
   "cell_type": "code",
   "execution_count": 35,
   "metadata": {
    "slideshow": {
     "slide_type": "slide"
    }
   },
   "outputs": [
    {
     "name": "stdout",
     "output_type": "stream",
     "text": [
      "Select a phenotype for analysis:  decreased T cell number\n"
     ]
    }
   ],
   "source": [
    "#***** added error checking/looping for second user input\n",
    "\n",
    "while True:\n",
    "    PhenoTerm = input(\"Select a phenotype for analysis:  \")\n",
    "\n",
    "    if not all(i.isalnum() for i in marker_symbol):\n",
    "        print(\"Alphanumeric only please.\")\n",
    "        continue\n",
    "\n",
    "    if PhenoTerm not in mp_term_list:\n",
    "        print(\"Looks like you didn't enter a correct phenotype. Try again.\")\n",
    "        continue\n",
    "    \n",
    "    else:\n",
    "        break\n",
    "        "
   ]
  },
  {
   "cell_type": "code",
   "execution_count": 46,
   "metadata": {
    "scrolled": false,
    "slideshow": {
     "slide_type": "slide"
    }
   },
   "outputs": [
    {
     "name": "stdout",
     "output_type": "stream",
     "text": [
      "Parameter Stable ID: MGP_BCI_001_001\n",
      "Colony ID: MEBV\n",
      "                                data_point\n",
      "biological_sample_group sex               \n",
      "control                 female   15.363684\n",
      "                        male     10.536957\n",
      "experimental            female    8.428571\n",
      "                        male      7.278571\n"
     ]
    }
   ],
   "source": [
    "#*****added some print statements here\n",
    "ParamId4Query = df.loc[df['mp_term_name'] ==  PhenoTerm, \"parameter_stable_id\"].iloc[0]\n",
    "ColonyId4Query = df.loc[df['mp_term_name'] ==  PhenoTerm, \"colony_id\"].iloc[0]\n",
    "print(\"Parameter Stable ID: \" + ParamId4Query)\n",
    "print(\"Colony ID: \" + ColonyId4Query)\n",
    "\n",
    "CSV2_URL =  \"https://www.ebi.ac.uk/mi/impc/solr/experiment/select?q=parameter_stable_id:\"+ ParamId4Query +\"%20AND%20colony_id:\" + ColonyId4Query + \"&rows=500&wt=csv&indent=true\"\n",
    "df2 = pd.read_csv(CSV2_URL) # this is KO data\n",
    "\n",
    "MetadataGroupID = df2['metadata_group'].iloc[0]\n",
    "PhenoCenterID = df2['phenotyping_center'].iloc[0]\n",
    "ControlDataURL = \"https://www.ebi.ac.uk/mi/impc/solr/experiment/select?q=parameter_stable_id:\" + ParamId4Query + \"&wt=csv&fq=metadata_group:\" + MetadataGroupID + \"&fq=phenotyping_center:\" + PhenoCenterID + \"&fq=strain_accession_id:%22MGI:2159965%22&fq=biological_sample_group:control&rows=100\"\n",
    "df3 = pd.read_csv(ControlDataURL) # this is wildtype data\n",
    "\n",
    "#print(df3.info())\n",
    "frames = [df2, df3]\n",
    "df4 = pd.concat(frames)\n",
    "#print(df4.info())\n",
    "sampletype = df4.groupby(['biological_sample_group', 'sex'])[['data_point']].mean()\n",
    "print(sampletype)"
   ]
  },
  {
   "cell_type": "code",
   "execution_count": 50,
   "metadata": {
    "slideshow": {
     "slide_type": "slide"
    }
   },
   "outputs": [
    {
     "name": "stdout",
     "output_type": "stream",
     "text": [
      "0     2012-07-17T00:00:00Z experimental\n",
      "1     2012-09-05T00:00:00Z experimental\n",
      "2     2012-12-12T00:00:00Z experimental\n",
      "3     2012-09-05T00:00:00Z experimental\n",
      "4     2012-09-05T00:00:00Z experimental\n",
      "5     2012-07-17T00:00:00Z experimental\n",
      "6     2012-12-27T00:00:00Z experimental\n",
      "7     2012-12-27T00:00:00Z experimental\n",
      "8     2012-12-12T00:00:00Z experimental\n",
      "9     2012-10-17T00:00:00Z experimental\n",
      "10         2012-07-02T00:00:00Z control\n",
      "11    2012-07-17T00:00:00Z experimental\n",
      "12         2012-07-02T00:00:00Z control\n",
      "13    2012-09-05T00:00:00Z experimental\n",
      "14    2012-12-27T00:00:00Z experimental\n",
      "15         2012-07-02T00:00:00Z control\n",
      "16    2012-04-17T00:00:00Z experimental\n",
      "0          2011-08-15T00:00:00Z control\n",
      "1          2011-08-15T00:00:00Z control\n",
      "2          2011-08-15T00:00:00Z control\n",
      "3          2011-08-17T00:00:00Z control\n",
      "4          2011-08-17T00:00:00Z control\n",
      "5          2011-08-08T00:00:00Z control\n",
      "6          2011-08-08T00:00:00Z control\n",
      "7          2011-06-08T00:00:00Z control\n",
      "8          2011-02-09T00:00:00Z control\n",
      "9          2011-02-09T00:00:00Z control\n",
      "10         2011-02-09T00:00:00Z control\n",
      "11         2011-02-09T00:00:00Z control\n",
      "12         2011-02-09T00:00:00Z control\n",
      "                    ...                \n",
      "70         2013-10-17T00:00:00Z control\n",
      "71         2013-10-17T00:00:00Z control\n",
      "72         2013-10-17T00:00:00Z control\n",
      "73         2013-09-11T00:00:00Z control\n",
      "74         2013-10-03T00:00:00Z control\n",
      "75         2013-10-03T00:00:00Z control\n",
      "76         2013-09-11T00:00:00Z control\n",
      "77         2013-10-09T00:00:00Z control\n",
      "78         2013-10-30T00:00:00Z control\n",
      "79         2013-09-25T00:00:00Z control\n",
      "80         2013-10-30T00:00:00Z control\n",
      "81         2013-10-30T00:00:00Z control\n",
      "82         2013-11-13T00:00:00Z control\n",
      "83         2013-11-13T00:00:00Z control\n",
      "84         2013-11-06T00:00:00Z control\n",
      "85         2013-09-11T00:00:00Z control\n",
      "86         2013-10-09T00:00:00Z control\n",
      "87         2013-11-27T00:00:00Z control\n",
      "88         2013-11-27T00:00:00Z control\n",
      "89         2013-11-27T00:00:00Z control\n",
      "90         2013-12-04T00:00:00Z control\n",
      "91         2013-11-06T00:00:00Z control\n",
      "92         2013-10-17T00:00:00Z control\n",
      "93         2013-09-11T00:00:00Z control\n",
      "94         2013-10-17T00:00:00Z control\n",
      "95         2013-10-17T00:00:00Z control\n",
      "96         2013-10-30T00:00:00Z control\n",
      "97         2013-10-09T00:00:00Z control\n",
      "98         2013-10-30T00:00:00Z control\n",
      "99         2013-11-06T00:00:00Z control\n",
      "Length: 117, dtype: object\n"
     ]
    },
    {
     "ename": "ValueError",
     "evalue": "The truth value of a Series is ambiguous. Use a.empty, a.bool(), a.item(), a.any() or a.all().",
     "output_type": "error",
     "traceback": [
      "\u001b[0;31m---------------------------------------------------------------------------\u001b[0m",
      "\u001b[0;31mValueError\u001b[0m                                Traceback (most recent call last)",
      "\u001b[0;32m<ipython-input-50-5b58719e9cd2>\u001b[0m in \u001b[0;36m<module>\u001b[0;34m\u001b[0m\n\u001b[1;32m     17\u001b[0m \u001b[0mfig\u001b[0m\u001b[0;34m,\u001b[0m \u001b[0max\u001b[0m \u001b[0;34m=\u001b[0m \u001b[0mplt\u001b[0m\u001b[0;34m.\u001b[0m\u001b[0msubplots\u001b[0m\u001b[0;34m(\u001b[0m\u001b[0mfigsize\u001b[0m\u001b[0;34m=\u001b[0m\u001b[0;34m(\u001b[0m\u001b[0;36m12\u001b[0m\u001b[0;34m,\u001b[0m \u001b[0;36m5\u001b[0m\u001b[0;34m)\u001b[0m\u001b[0;34m)\u001b[0m\u001b[0;34m\u001b[0m\u001b[0;34m\u001b[0m\u001b[0m\n\u001b[1;32m     18\u001b[0m \u001b[0;34m\u001b[0m\u001b[0m\n\u001b[0;32m---> 19\u001b[0;31m \u001b[0;32mif\u001b[0m \u001b[0mz\u001b[0m \u001b[0;34m==\u001b[0m \u001b[0;34m'experimental'\u001b[0m\u001b[0;34m:\u001b[0m\u001b[0;34m\u001b[0m\u001b[0;34m\u001b[0m\u001b[0m\n\u001b[0m\u001b[1;32m     20\u001b[0m     \u001b[0max\u001b[0m\u001b[0;34m.\u001b[0m\u001b[0mscatter\u001b[0m\u001b[0;34m(\u001b[0m\u001b[0mx1\u001b[0m\u001b[0;34m,\u001b[0m\u001b[0my1\u001b[0m\u001b[0;34m,\u001b[0m \u001b[0malpha\u001b[0m \u001b[0;34m=\u001b[0m \u001b[0;36m0.7\u001b[0m\u001b[0;34m,\u001b[0m \u001b[0mc\u001b[0m \u001b[0;34m=\u001b[0m \u001b[0;34m'b'\u001b[0m\u001b[0;34m)\u001b[0m \u001b[0;31m#color by \"biological_sample_group\" < need to be a factor??\u001b[0m\u001b[0;34m\u001b[0m\u001b[0;34m\u001b[0m\u001b[0m\n\u001b[1;32m     21\u001b[0m \u001b[0;32mif\u001b[0m \u001b[0mz\u001b[0m \u001b[0;34m==\u001b[0m \u001b[0;34m'control'\u001b[0m\u001b[0;34m:\u001b[0m\u001b[0;34m\u001b[0m\u001b[0;34m\u001b[0m\u001b[0m\n",
      "\u001b[0;32m~/anaconda3/lib/python3.7/site-packages/pandas/core/generic.py\u001b[0m in \u001b[0;36m__nonzero__\u001b[0;34m(self)\u001b[0m\n\u001b[1;32m   1574\u001b[0m         raise ValueError(\"The truth value of a {0} is ambiguous. \"\n\u001b[1;32m   1575\u001b[0m                          \u001b[0;34m\"Use a.empty, a.bool(), a.item(), a.any() or a.all().\"\u001b[0m\u001b[0;34m\u001b[0m\u001b[0;34m\u001b[0m\u001b[0m\n\u001b[0;32m-> 1576\u001b[0;31m                          .format(self.__class__.__name__))\n\u001b[0m\u001b[1;32m   1577\u001b[0m \u001b[0;34m\u001b[0m\u001b[0m\n\u001b[1;32m   1578\u001b[0m     \u001b[0m__bool__\u001b[0m \u001b[0;34m=\u001b[0m \u001b[0m__nonzero__\u001b[0m\u001b[0;34m\u001b[0m\u001b[0;34m\u001b[0m\u001b[0m\n",
      "\u001b[0;31mValueError\u001b[0m: The truth value of a Series is ambiguous. Use a.empty, a.bool(), a.item(), a.any() or a.all()."
     ]
    },
    {
     "data": {
      "image/png": "[encoded data removed]",
      "text/plain": [
       "<Figure size 864x360 with 1 Axes>"
      ]
     },
     "metadata": {
      "needs_background": "light"
     },
     "output_type": "display_data"
    }
   ],
   "source": [
    "import matplotlib.pyplot as plt\n",
    "x = df4['date_of_experiment']\n",
    "y = df4['data_point']\n",
    "z = df4['biological_sample_group']\n",
    "print(x + ' ' + z)\n",
    "param = df4.loc[df4['parameter_stable_id'] == ParamId4Query, 'parameter_name'].iloc[0]\n",
    "\n",
    "'''\n",
    "x1 = df2['date_of_experiment']\n",
    "y1 = df2['data_point']\n",
    "\n",
    "x2 = df3['date_of_experiment']\n",
    "y2 = df3['data_point']\n",
    "'''\n",
    "\n",
    "#****want to rotate x ticks and change color btwn KO and WT\n",
    "fig, ax = plt.subplots(figsize=(12, 5))\n",
    "\n",
    "ax.scatter(x1,y1, alpha = 0.7, c = 'b') #color by \"biological_sample_group\" < need to be a factor??\n",
    "ax.scatter(x2,y2, alpha = 0.7, c = 'c')\n",
    "\n",
    "ax.set_title(\"Knockout & Wildtype Data for \" + PhenoTerm.capitalize() + \" Phenotype\")\n",
    "ax.set_xlabel(\"Date of Experiment\")\n",
    "ax.set_ylabel(param)\n",
    "plt.show()"
   ]
  },
  {
   "cell_type": "code",
   "execution_count": 7,
   "metadata": {
    "slideshow": {
     "slide_type": "slide"
    }
   },
   "outputs": [
    {
     "name": "stderr",
     "output_type": "stream",
     "text": [
      "/Users/eileencahill/anaconda3/lib/python3.7/site-packages/scipy/stats/stats.py:1713: FutureWarning: Using a non-tuple sequence for multidimensional indexing is deprecated; use `arr[tuple(seq)]` instead of `arr[seq]`. In the future this will be interpreted as an array index, `arr[np.array(seq)]`, which will result either in an error or a different result.\n",
      "  return np.add.reduce(sorted[indexer] * weights, axis=axis) / sumval\n"
     ]
    },
    {
     "data": {
      "image/png": "[encoded data removed]",
      "text/plain": [
       "<Figure size 720x360 with 2 Axes>"
      ]
     },
     "metadata": {
      "needs_background": "light"
     },
     "output_type": "display_data"
    }
   ],
   "source": [
    "import seaborn as sns\n",
    "x = df4['date_of_experiment']\n",
    "y = df4['data_point']\n",
    "sns.catplot(x = 'sex', y = 'data_point', col = 'biological_sample_group', kind = 'bar', data=df4)\n",
    "plt.show()"
   ]
  },
  {
   "cell_type": "code",
   "execution_count": null,
   "metadata": {},
   "outputs": [],
   "source": []
  }
 ],
 "metadata": {
  "celltoolbar": "Slideshow",
  "kernelspec": {
   "display_name": "Python 3",
   "language": "python",
   "name": "python3"
  },
  "language_info": {
   "codemirror_mode": {
    "name": "ipython",
    "version": 3
   },
   "file_extension": ".py",
   "mimetype": "text/x-python",
   "name": "python",
   "nbconvert_exporter": "python",
   "pygments_lexer": "ipython3",
   "version": "3.7.1"
  }
 },
 "nbformat": 4,
 "nbformat_minor": 1
}

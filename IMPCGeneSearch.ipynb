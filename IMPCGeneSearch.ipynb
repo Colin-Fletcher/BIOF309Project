{
 "cells": [
  {
   "cell_type": "markdown",
   "metadata": {
    "pycharm": {},
    "slideshow": {
     "slide_type": "slide"
    }
   },
   "source": [
    "##Searching for Phenotypic Information with a Gene Name\n",
    "by Colin Fletcher and Eileen Cahill\n",
    "\n",
    "The International Mouse Phenotyping Consortium makes knockout mice, phenotypes them, and disseminates the data from www.impc.org.\n",
    "Searching the website to find data for a specific gene is somewhat cumbersome and a script to quickly return phenotype data for a gene would be useful.\n",
    "\n"
   ]
  },
  {
   "cell_type": "markdown",
   "metadata": {
    "slideshow": {
     "slide_type": "subslide"
    }
   },
   "source": [
    "The first code cell checks the validity of the user input based on the fact that gene symbols are alphanumeric only and have no whitespace. \n",
    "Second, after a search using the API for the website, the error checking detects cases where the gene KO has not been phenotyped yet (~50% of genes)."
   ]
  },
  {
   "cell_type": "code",
   "execution_count": 68,
   "metadata": {
    "pycharm": {
     "is_executing": false
    },
    "slideshow": {
     "slide_type": "subslide"
    }
   },
   "outputs": [
    {
     "name": "stdout",
     "output_type": "stream",
     "text": [
      "Please enter a gene symbol: Fbxo7\n",
      "\n",
      "The gene you chose is: Fbxo7\n"
     ]
    }
   ],
   "source": [
    "\n",
    "import matplotlib.pyplot as plt\n",
    "import seaborn as sns\n",
    "\n",
    "\n",
    "while True:\n",
    "    marker_symbol = input(\"Please enter a gene symbol: \")\n",
    "    if any(x.isspace() for x in marker_symbol):\n",
    "        print(\"No spaces allowed, please re-enter.\")\n",
    "        continue\n",
    "\n",
    "    if not all(x.isalnum() for x in marker_symbol):\n",
    "        print(\"Alphanumeric only please.\")\n",
    "        continue\n",
    "\n",
    "    import pandas as pd\n",
    "    CSV_URL = \"https://www.ebi.ac.uk/mi/impc/solr/genotype-phenotype/select?q=marker_symbol:\" + marker_symbol + \"&rows=500&wt=csv&indent=1\"\n",
    "    df = pd.read_csv(CSV_URL)\n",
    "\n",
    "    if df.empty:\n",
    "        print(\"Looks like that gene doesn't have available information. Try another gene or check your cAsE.\")\n",
    "        continue\n",
    "    else:\n",
    "        break\n",
    "    \n",
    "print(\"\\n\" + \"The gene you chose is: \" + marker_symbol)"
   ]
  },
  {
   "cell_type": "markdown",
   "metadata": {
    "pycharm": {
     "metadata": false
    },
    "slideshow": {
     "slide_type": "slide"
    }
   },
   "source": [
    "The name of the gene found is presented for confirmation.\n",
    "\n",
    "Then, phenotypes based on continuous data are selected, and the list is presented to the user.\n"
   ]
  },
  {
   "cell_type": "code",
   "execution_count": 70,
   "metadata": {
    "pycharm": {
     "is_executing": false
    },
    "slideshow": {
     "slide_type": "subslide"
    }
   },
   "outputs": [
    {
     "name": "stdout",
     "output_type": "stream",
     "text": [
      "IMPC found this allele: ['Fbxo7<tm1a(EUCOMM)Wtsi>']\n",
      "\n",
      "['decreased circulating alanine transaminase level', 'decreased hematocrit', 'decreased erythrocyte cell number', 'decreased hemoglobin content', 'increased monocyte cell number', 'decreased leukocyte cell number', 'increased mean platelet volume', 'increased NK cell number', 'decreased NK T cell number', 'decreased CD8-positive, alpha-beta T cell number', 'decreased CD4-positive, alpha beta T cell number', 'decreased circulating fructosamine level', 'increased red blood cell distribution width', 'decreased T cell number', 'increased effector memory CD8-positive, alpha-beta T cell number', 'increased effector memory CD4-positive, alpha-beta T cell number', 'increased mean corpuscular hemoglobin', 'increased circulating bilirubin level', 'decreased circulating iron level', 'thrombocytosis']\n"
     ]
    }
   ],
   "source": [
    "AlleleFound = pd.unique(df['allele_symbol']).tolist()\n",
    "AlleleFound2 = str(AlleleFound)\n",
    "print(\"IMPC found this allele: \" + AlleleFound2 +'\\n')\n",
    "\n",
    "df = df.dropna(subset=['percentage_change'])\n",
    "mp_term_list = pd.unique(df['mp_term_name']).tolist()\n",
    "print(mp_term_list)\n"
   ]
  },
  {
   "cell_type": "markdown",
   "metadata": {
    "pycharm": {
     "metadata": false
    },
    "slideshow": {
     "slide_type": "slide"
    }
   },
   "source": [
    "The user inputs a phenotype term from the presented list in order to then retrieve the associated experimental data using the API for the website. \n",
    "This user input is error checked.\n",
    "Some of the associated parameters are printed for confirmation. These will be used to retrieve data through the website API.\n"
   ]
  },
  {
   "cell_type": "code",
   "execution_count": 71,
   "metadata": {
    "pycharm": {
     "is_executing": false
    },
    "slideshow": {
     "slide_type": "subslide"
    }
   },
   "outputs": [
    {
     "name": "stdout",
     "output_type": "stream",
     "text": [
      "Select a phenotype for analysis:  decreased leukocyte cell number\n",
      "\n",
      "Parameter Stable ID: IMPC_HEM_001_001\n",
      "\n",
      "Colony ID: MEBV\n"
     ]
    }
   ],
   "source": [
    "while True:\n",
    "    PhenoTerm = input(\"Select a phenotype for analysis:  \")\n",
    "\n",
    "    if not all(i.isalnum() for i in marker_symbol):\n",
    "        print(\"Alphanumeric only please.\")\n",
    "        continue\n",
    "\n",
    "    if PhenoTerm not in mp_term_list:\n",
    "        print(\"Looks like you didn't enter a correct phenotype. Try again.\")\n",
    "        continue\n",
    "    \n",
    "    else:\n",
    "        break\n",
    "\n",
    "ParamId4Query = df.loc[df['mp_term_name'] ==  PhenoTerm, \"parameter_stable_id\"].iloc[0]\n",
    "ColonyId4Query = df.loc[df['mp_term_name'] ==  PhenoTerm, \"colony_id\"].iloc[0]\n",
    "print(\"\\n\" + \"Parameter Stable ID: \" + ParamId4Query)\n",
    "print(\"\\n\" + \"Colony ID: \" + ColonyId4Query)\n"
   ]
  },
  {
   "cell_type": "markdown",
   "metadata": {
    "pycharm": {
     "metadata": false
    }
   },
   "source": [
    "\n",
    "The code retrieves experimental and control data in 2 searches and the returned dataframes are concatenated.\n",
    "The data set is grouped by control and KO, and by sex, and the mean is calculated.\n"
   ]
  },
  {
   "cell_type": "code",
   "execution_count": 72,
   "metadata": {
    "pycharm": {
     "is_executing": false,
     "metadata": false,
     "name": "#%%\n"
    }
   },
   "outputs": [
    {
     "name": "stdout",
     "output_type": "stream",
     "text": [
      "                                data_point\n",
      "biological_sample_group sex               \n",
      "control                 female    6.251455\n",
      "                        male      7.529375\n",
      "experimental            female    4.200000\n",
      "                        male      6.187143\n"
     ]
    }
   ],
   "source": [
    "CSV2_URL =  \"https://www.ebi.ac.uk/mi/impc/solr/experiment/select?q=parameter_stable_id:\"+ ParamId4Query +\"%20AND%20colony_id:\" + ColonyId4Query + \"&rows=500&wt=csv&indent=true\"\n",
    "df2 = pd.read_csv(CSV2_URL) # this is KO data\n",
    "\n",
    "MetadataGroupID = df2['metadata_group'].iloc[0]\n",
    "PhenoCenterID = df2['phenotyping_center'].iloc[0]\n",
    "ControlDataURL = \"https://www.ebi.ac.uk/mi/impc/solr/experiment/select?q=parameter_stable_id:\" + ParamId4Query + \"&wt=csv&fq=metadata_group:\" + MetadataGroupID + \"&fq=phenotyping_center:\" + PhenoCenterID + \"&fq=strain_accession_id:%22MGI:2159965%22&fq=biological_sample_group:control&rows=100\"\n",
    "df3 = pd.read_csv(ControlDataURL) # this is wildtype data\n",
    "\n",
    "frames = [df2, df3]\n",
    "df4 = pd.concat(frames)\n",
    "#the strings in the date column are converted into datetime objects\n",
    "df2['datetime_for_experiment'] = pd.to_datetime(df2['date_of_experiment'], format = '%Y-%m-%dT%H:%M:%S')\n",
    "df3['datetime_for_experiment'] = pd.to_datetime(df3['date_of_experiment'], format = '%Y-%m-%dT%H:%M:%S')\n",
    "df4['datetime_for_experiment'] = pd.to_datetime(df4['date_of_experiment'], format = '%Y-%m-%dT%H:%M:%S')\n",
    "\n",
    "sampletype = df4.groupby(['biological_sample_group', 'sex'])[['data_point']].mean()\n",
    "print(sampletype)"
   ]
  },
  {
   "cell_type": "markdown",
   "metadata": {
    "pycharm": {
     "metadata": false
    }
   },
   "source": [
    "Data is first plotted in a scatter plot to see the results over time.\n",
    "The mean for the groups is then presented in a column plot. \n"
   ]
  },
  {
   "cell_type": "code",
   "execution_count": 73,
   "metadata": {
    "pycharm": {
     "is_executing": false
    },
    "slideshow": {
     "slide_type": "slide"
    }
   },
   "outputs": [
    {
     "data": {
      "image/png": "[encoded data removed]",
      "text/plain": [
       "<Figure size 432x288 with 1 Axes>"
      ]
     },
     "metadata": {
      "needs_background": "light"
     },
     "output_type": "display_data"
    },
    {
     "data": {
      "image/png": "[encoded data removed]",
      "text/plain": [
       "<Figure size 432x288 with 1 Axes>"
      ]
     },
     "metadata": {
      "needs_background": "light"
     },
     "output_type": "display_data"
    },
    {
     "data": {
      "image/png": "[encoded data removed]",
      "text/plain": [
       "<Figure size 432x288 with 1 Axes>"
      ]
     },
     "metadata": {
      "needs_background": "light"
     },
     "output_type": "display_data"
    },
    {
     "data": {
      "image/png": "[encoded data removed]",
      "text/plain": [
       "<Figure size 720x360 with 2 Axes>"
      ]
     },
     "metadata": {
      "needs_background": "light"
     },
     "output_type": "display_data"
    }
   ],
   "source": [
    "param = df4.loc[df4['parameter_stable_id'] == ParamId4Query, 'parameter_name'].iloc[0]\n",
    "\n",
    "ax = df2.plot(x='datetime_for_experiment', y='data_point', color = 'red', style=\".\", legend = \"\", \n",
    "              title= \"Knockout Data for \" + PhenoTerm.capitalize() + \" Phenotype\")\n",
    "ax.set(xlabel='Date of Experiment', ylabel=param )\n",
    "\n",
    "ax = df3.plot(x='datetime_for_experiment', y='data_point', color = 'green', style=\".\", legend = \"\", \n",
    "              title= \"Wildtype Data for \" + PhenoTerm.capitalize() + \" Phenotype\")\n",
    "ax.set(xlabel='Date of Experiment', ylabel=param )\n",
    "\n",
    "ax = df4.plot(x= 'datetime_for_experiment', y='data_point', color = 'purple', style=\".\", legend = \"\", \n",
    "              title= \"Knockout & Wildtype Data for \" + PhenoTerm.capitalize() + \" Phenotype\")\n",
    "ax.set(xlabel='Date of Experiment', ylabel=param )\n",
    "\n",
    "sns.catplot(x = 'sex', y = 'data_point', col = 'biological_sample_group', kind = 'bar', data=df4)\n",
    "plt.show()\n"
   ]
  },
  {
   "cell_type": "code",
   "execution_count": null,
   "metadata": {},
   "outputs": [],
   "source": []
  }
 ],
 "metadata": {
  "celltoolbar": "Slideshow",
  "kernelspec": {
   "display_name": "Python 3",
   "language": "python",
   "name": "python3"
  },
  "language_info": {
   "codemirror_mode": {
    "name": "ipython",
    "version": 3
   },
   "file_extension": ".py",
   "mimetype": "text/x-python",
   "name": "python",
   "nbconvert_exporter": "python",
   "pygments_lexer": "ipython3",
   "version": "3.7.1"
  }
 },
 "nbformat": 4,
 "nbformat_minor": 1
}
